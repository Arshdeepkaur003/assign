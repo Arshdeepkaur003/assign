{
 "cells": [
  {
   "cell_type": "markdown",
   "id": "b1321c68-6ccc-47d2-a12f-e828206f03e8",
   "metadata": {},
   "source": [
    "# Data Science Notebook\n"
   ]
  },
  {
   "cell_type": "markdown",
   "id": "a025c28a-5844-47f5-a292-c528115e02e9",
   "metadata": {},
   "source": [
    "## Introduction\r\n",
    "\r\n",
    "This notebook covers various aspects of data science including languages, libraries, and tools. It will also demonstrate some basic arithmetic operations and conversions using Python code.\r\n"
   ]
  },
  {
   "cell_type": "markdown",
   "id": "11aaa857-aacc-4d6a-bc4f-7ffd75b8bf8b",
   "metadata": {},
   "source": [
    "## Data Science Languages\r\n",
    "\r\n",
    "- Python\r\n",
    "- R\r\n",
    "- SQL\r\n",
    "- Julia\r\n",
    "- Scala\r\n"
   ]
  },
  {
   "cell_type": "markdown",
   "id": "b73018c0-5c1f-41f7-a7e1-04d75dcc721f",
   "metadata": {},
   "source": [
    "## Data Science Libraries\r\n",
    "\r\n",
    "- NumPy\r\n",
    "- pandas\r\n",
    "- scikit-learn\r\n",
    "- TensorFlow\r\n",
    "- Keras\r\n",
    "- PyTorch\r\n"
   ]
  },
  {
   "cell_type": "markdown",
   "id": "69ee964e-4ec8-4535-bc66-ef07fae5e639",
   "metadata": {},
   "source": [
    "## Data Science Tools\r\n",
    "\r\n",
    "| Tool         | Description                      |\r\n",
    "|--------------|----------------------------------|\r\n",
    "| Jupyter      | Interactive computing environment|\r\n",
    "| GitHub        | Version control and collaboration |\r\n",
    "| Docker        | Containerization platform        |\r\n",
    "| Tableau       | Data visualization tool          |\r\n",
    "| Apache Spark  | Big data processing framework    |\r\n"
   ]
  },
  {
   "cell_type": "markdown",
   "id": "e3bda413-9edd-4504-a2f1-bb6bd15bc102",
   "metadata": {},
   "source": [
    "## Arithmetic Expression Examples\r\n",
    "\r\n",
    "Here are a few examples of basic arithmetic operations:\r\n",
    "- Addition\r\n",
    "- Subtraction\r\n",
    "- Multiplication\r\n",
    "- Division\r\n"
   ]
  },
  {
   "cell_type": "code",
   "execution_count": null,
   "id": "aa084e75-0fba-4707-ab81-dff74f5cb0ac",
   "metadata": {},
   "outputs": [],
   "source": [
    "# Code Cell\n",
    "\n",
    "# Multiplying and adding numbers\n",
    "a = 5\n",
    "b = 10\n",
    "result = a * b + a\n",
    "result\n"
   ]
  }
 ],
 "metadata": {
  "kernelspec": {
   "display_name": "Python 3 (ipykernel)",
   "language": "python",
   "name": "python3"
  },
  "language_info": {
   "codemirror_mode": {
    "name": "ipython",
    "version": 3
   },
   "file_extension": ".py",
   "mimetype": "text/x-python",
   "name": "python",
   "nbconvert_exporter": "python",
   "pygments_lexer": "ipython3",
   "version": "3.12.4"
  }
 },
 "nbformat": 4,
 "nbformat_minor": 5
}
